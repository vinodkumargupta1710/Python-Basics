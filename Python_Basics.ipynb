{
  "nbformat": 4,
  "nbformat_minor": 0,
  "metadata": {
    "colab": {
      "provenance": []
    },
    "kernelspec": {
      "name": "python3",
      "display_name": "Python 3"
    },
    "language_info": {
      "name": "python"
    }
  },
  "cells": [
    {
      "cell_type": "markdown",
      "source": [
        "# Python Basics Questions"
      ],
      "metadata": {
        "id": "L4fXTpulnvxq"
      }
    },
    {
      "cell_type": "markdown",
      "source": [
        "1. What is Python, and why is it popular?\n",
        "- Python is a high-level, easy-to-read programming language used for web development, data science, automation, and more.\n",
        "- It is popular due to its simplicity, vast libraries, and versatility across different fields.\n",
        "\n",
        "2. What is an interpreter in Python?\n",
        "- An interpreter in Python executes code line by line, converting it into machine-readable instructions at runtime. This allows for easier debugging and faster testing without the need for compilation.\n",
        "\n",
        "3. What are pre-defined keywords in Python?\n",
        "- Pre-defined keywords in Python are reserved words that have special meaning and cannot be used as identifiers.\n",
        "Examples: if, else, while, for, and def\n",
        "\n",
        "4. Can keywords be used as variable names?\n",
        "- No, keywords cannot be used as variable names in Python because they are reserved for specific language functions. Using them as variables will result in a syntax error.\n",
        "\n",
        "5. What is mutability in Python?\n",
        "- Mutability in Python refers to whether an object value can be changed after it is created.\n",
        "- Mutable objects (like lists) can be changed, while immutable ones (like strings and tuples) cannot.\n",
        "\n",
        "6. Why are lists mutable, but tuples are immutable?\n",
        "- Lists are mutable because they are designed to allow modifications like adding, removing, or changing elements.\n",
        "- Tuples cannot be changed once created, which helps keep the data safe.\n",
        "\n",
        "7. What is the difference between “==” and “is” operators in Python?\n",
        "- The == operator checks if two values are equal.\n",
        "- The is operator checks if two variables point to the same object in memory.\n",
        "\n",
        "8. What are logical operators in Python?\n",
        "- Logical operators in Python are used to perform logical operations on boolean values. The main logical operators are and, or, not.\n",
        "\n",
        "9. What is type casting in Python?\n",
        "- Type casting in Python is converting a value from one data type to another.\n",
        "For example converting a string to an integer using int() or a number to a string using str().\n",
        "\n",
        "10. What is the difference between implicit and explicit type casting?\n",
        "- Implicit type casting is automatic conversion done by Python without user intervention.\n",
        "- Explicit type casting is when the programmer manually converts data types using functions like int() or str().\n",
        "\n",
        "11. What is the purpose of conditional statements in Python?\n",
        "- Conditional statements allow the program to make decision and execute certain parts of code based on given conditions using \"if\", \"elif\", \"else\".\n",
        "\n",
        "12. How does the elif statement work?\n",
        "- The elif statement in Python is used to check multiple conditions in sequence. If the initial if condition is false, Python checks the elif condition next. This continues until a true condition is found, and only the code under the first true condition runs; if none are true, the else block (if present) runs.\n",
        "\n",
        "13.  What is the difference between for and while loops?\n",
        "- A for loop repeats a block of code a specific number of times, usually iterating over a sequence. A while loop continues running as long as a given condition remains true. For loops are used when the number of iterations is known, while while loops suit situations with unknown repetitions.\n",
        "\n",
        "14. Describe a scenario where a while loop is more suitable than a for loop.\n",
        "- A while loop is best when the number of repetitions is unknown, like asking a user to enter a password until it is correct. It runs until a specific condition is met, unlike a for loop with fixed iterations.\n",
        "\n",
        ""
      ],
      "metadata": {
        "id": "n7tZXPLjn3Qt"
      }
    },
    {
      "cell_type": "markdown",
      "source": [
        "# Practical Questions"
      ],
      "metadata": {
        "id": "yD2WbSxI02F_"
      }
    },
    {
      "cell_type": "code",
      "execution_count": 2,
      "metadata": {
        "colab": {
          "base_uri": "https://localhost:8080/"
        },
        "id": "KR9u0B2ynJz8",
        "outputId": "1a0be6d3-da1a-4f31-cc9f-1e882a133ab0"
      },
      "outputs": [
        {
          "output_type": "stream",
          "name": "stdout",
          "text": [
            "Hello, World!\n"
          ]
        }
      ],
      "source": [
        "# 1. Write a Python program to print \"Hello, World!\"\n",
        "print(\"Hello, World!\")"
      ]
    },
    {
      "cell_type": "code",
      "source": [
        "# 2. Write a Python program that displays your name and age.\n",
        "name = \"Vinod\"\n",
        "age = 20\n",
        "print(\"name: \", name)\n",
        "print(\"age: \", age)"
      ],
      "metadata": {
        "colab": {
          "base_uri": "https://localhost:8080/"
        },
        "id": "ag8yRpRWnX2D",
        "outputId": "a145c07f-cfde-4b02-d483-7c86dce39183"
      },
      "execution_count": 6,
      "outputs": [
        {
          "output_type": "stream",
          "name": "stdout",
          "text": [
            "name:  Vinod\n",
            "age:  20\n"
          ]
        }
      ]
    },
    {
      "cell_type": "code",
      "source": [
        "# 3. Write code to print all the pre-defined keywords in Python using the keyword library.\n",
        "help(\"keywords\")"
      ],
      "metadata": {
        "colab": {
          "base_uri": "https://localhost:8080/"
        },
        "id": "sD4AqmE_9LeZ",
        "outputId": "d5666ca0-403a-44a1-f810-2331f54bb3aa"
      },
      "execution_count": 7,
      "outputs": [
        {
          "output_type": "stream",
          "name": "stdout",
          "text": [
            "\n",
            "Here is a list of the Python keywords.  Enter any keyword to get more help.\n",
            "\n",
            "False               class               from                or\n",
            "None                continue            global              pass\n",
            "True                def                 if                  raise\n",
            "and                 del                 import              return\n",
            "as                  elif                in                  try\n",
            "assert              else                is                  while\n",
            "async               except              lambda              with\n",
            "await               finally             nonlocal            yield\n",
            "break               for                 not                 \n",
            "\n"
          ]
        }
      ]
    },
    {
      "cell_type": "code",
      "source": [
        "# 4. Write a program that checks if a given word is a Python keyword.\n",
        "import keyword\n",
        "word = input(\"Enter a word: \")\n",
        "if keyword.iskeyword(word):\n",
        "  print(\"This is a python keyword\")\n",
        "else:\n",
        "  print(\"This is not a python keyword\")"
      ],
      "metadata": {
        "colab": {
          "base_uri": "https://localhost:8080/"
        },
        "id": "VCPozgGR9rZZ",
        "outputId": "8adea2af-9266-4e6b-946a-af6a17dbe6fe"
      },
      "execution_count": 11,
      "outputs": [
        {
          "output_type": "stream",
          "name": "stdout",
          "text": [
            "Enter a word: for\n",
            "This is a python keyword\n"
          ]
        }
      ]
    },
    {
      "cell_type": "code",
      "source": [
        "# 5. Create a list and tuple in Python, and demonstrate how attempting to change an element works differently for each.\n",
        "list = [\"Apple\",\"Banana\",231,443]\n",
        "list[0] = \"Grapes\"\n",
        "print(list)   #list is mutable"
      ],
      "metadata": {
        "colab": {
          "base_uri": "https://localhost:8080/"
        },
        "id": "HtCqB0oS-5bB",
        "outputId": "6e7be83f-1726-4809-8697-a61fd49eabe5"
      },
      "execution_count": 15,
      "outputs": [
        {
          "output_type": "stream",
          "name": "stdout",
          "text": [
            "['Grapes', 'Banana', 231, 443]\n"
          ]
        }
      ]
    },
    {
      "cell_type": "code",
      "source": [
        "#tuple is immutable\n",
        "tuple = (\"Apple\",\"Banana\",231,443)\n",
        "tuple[0] = \"Grapes\"\n",
        "print(tuple)"
      ],
      "metadata": {
        "colab": {
          "base_uri": "https://localhost:8080/",
          "height": 193
        },
        "id": "S8Drqpt5Aril",
        "outputId": "e5f7023a-09f8-4729-e417-353869886aa2"
      },
      "execution_count": 17,
      "outputs": [
        {
          "output_type": "error",
          "ename": "TypeError",
          "evalue": "'tuple' object does not support item assignment",
          "traceback": [
            "\u001b[0;31m---------------------------------------------------------------------------\u001b[0m",
            "\u001b[0;31mTypeError\u001b[0m                                 Traceback (most recent call last)",
            "\u001b[0;32m<ipython-input-17-1668f742ce01>\u001b[0m in \u001b[0;36m<cell line: 0>\u001b[0;34m()\u001b[0m\n\u001b[1;32m      1\u001b[0m \u001b[0;31m#tuple is immutable\u001b[0m\u001b[0;34m\u001b[0m\u001b[0;34m\u001b[0m\u001b[0m\n\u001b[1;32m      2\u001b[0m \u001b[0mtuple\u001b[0m \u001b[0;34m=\u001b[0m \u001b[0;34m(\u001b[0m\u001b[0;34m\"Apple\"\u001b[0m\u001b[0;34m,\u001b[0m\u001b[0;34m\"Banana\"\u001b[0m\u001b[0;34m,\u001b[0m\u001b[0;36m231\u001b[0m\u001b[0;34m,\u001b[0m\u001b[0;36m443\u001b[0m\u001b[0;34m)\u001b[0m\u001b[0;34m\u001b[0m\u001b[0;34m\u001b[0m\u001b[0m\n\u001b[0;32m----> 3\u001b[0;31m \u001b[0mtuple\u001b[0m\u001b[0;34m[\u001b[0m\u001b[0;36m0\u001b[0m\u001b[0;34m]\u001b[0m \u001b[0;34m=\u001b[0m \u001b[0;34m\"Grapes\"\u001b[0m\u001b[0;34m\u001b[0m\u001b[0;34m\u001b[0m\u001b[0m\n\u001b[0m\u001b[1;32m      4\u001b[0m \u001b[0mprint\u001b[0m\u001b[0;34m(\u001b[0m\u001b[0mtuple\u001b[0m\u001b[0;34m)\u001b[0m\u001b[0;34m\u001b[0m\u001b[0;34m\u001b[0m\u001b[0m\n",
            "\u001b[0;31mTypeError\u001b[0m: 'tuple' object does not support item assignment"
          ]
        }
      ]
    },
    {
      "cell_type": "code",
      "source": [
        "# 6. Write a function to demonstrate the behavior of mutable and immutable arguments.\n",
        "\n",
        "#Immutable example\n",
        "num = 5\n",
        "num += 10\n",
        "print(\"Immutable number:\", num)"
      ],
      "metadata": {
        "colab": {
          "base_uri": "https://localhost:8080/"
        },
        "id": "u6uJ-Ie1A_NW",
        "outputId": "0b7d3617-8a3b-4973-a434-1a7f23b2aa46"
      },
      "execution_count": 25,
      "outputs": [
        {
          "output_type": "stream",
          "name": "stdout",
          "text": [
            "Immutable number: 15\n"
          ]
        }
      ]
    },
    {
      "cell_type": "code",
      "source": [
        "# mutable example\n",
        "list = [1,2,3]\n",
        "list.append(100)\n",
        "print(\"mutable list: \", list)"
      ],
      "metadata": {
        "colab": {
          "base_uri": "https://localhost:8080/"
        },
        "id": "kon7_f67DFOy",
        "outputId": "c3b75598-d784-4aec-b795-fb737a9ba859"
      },
      "execution_count": 22,
      "outputs": [
        {
          "output_type": "stream",
          "name": "stdout",
          "text": [
            "mutable list:  [1, 2, 3, 100]\n"
          ]
        }
      ]
    },
    {
      "cell_type": "code",
      "source": [
        "# 7. Write a program that performs basic arithmetic operations on two user-input numbers.\n",
        "num_1 = int(input(\"Enter a no: \"))\n",
        "num_2 = int(input(\"Enter a no: \"))\n",
        "num_3 = num_1 + num_2\n",
        "print(num_3)"
      ],
      "metadata": {
        "colab": {
          "base_uri": "https://localhost:8080/"
        },
        "id": "4DEhaxivD5Z-",
        "outputId": "2e0fdc2d-ab9c-4cee-91d7-b64040d4dc70"
      },
      "execution_count": 27,
      "outputs": [
        {
          "output_type": "stream",
          "name": "stdout",
          "text": [
            "Enter a no: 12\n",
            "Enter a no: 12\n",
            "24\n"
          ]
        }
      ]
    },
    {
      "cell_type": "code",
      "source": [
        "# 8. Write a program to demonstrate the use of logical operators.\n",
        "a = 10\n",
        "b = 5\n",
        "print(a>5 and b<6) # True and True -> True\n",
        "print(a>5 or b<7)  # True or False -> True\n",
        "print(not(a > 5))  # not True -> False"
      ],
      "metadata": {
        "colab": {
          "base_uri": "https://localhost:8080/"
        },
        "id": "Phi9pxNXFAGv",
        "outputId": "1434d5cf-678f-4e17-d24b-52deecb9f053"
      },
      "execution_count": 31,
      "outputs": [
        {
          "output_type": "stream",
          "name": "stdout",
          "text": [
            "True\n",
            "True\n",
            "False\n"
          ]
        }
      ]
    },
    {
      "cell_type": "code",
      "source": [
        "# 9. Write a Python program to convert user input from string to integer, float and boolean types.\n",
        "a = input(\"Input value: \")\n",
        "print(\"Integer: \", int(a))\n",
        "print(\"Float: \", float(a))\n",
        "print(\"Boolean: \", bool(a))"
      ],
      "metadata": {
        "colab": {
          "base_uri": "https://localhost:8080/"
        },
        "id": "-PTtXg1yHCvG",
        "outputId": "4a88ba13-b74b-4d3c-cb69-878dfb9dfa3f"
      },
      "execution_count": 33,
      "outputs": [
        {
          "output_type": "stream",
          "name": "stdout",
          "text": [
            "Input value: 12\n",
            "Integer:  12\n",
            "Float:  12.0\n",
            "Boolean:  True\n"
          ]
        }
      ]
    },
    {
      "cell_type": "code",
      "source": [
        "# 10. Write code to demonstrate type casting with list elements.\n",
        "lst = ['1', '2', '3']\n",
        "for i in range(len(lst)):\n",
        "    lst[i] = int(lst[i])\n",
        "print(lst)"
      ],
      "metadata": {
        "colab": {
          "base_uri": "https://localhost:8080/"
        },
        "id": "ddFJPzBuJEhA",
        "outputId": "e3dff5bc-613b-44f7-92ef-48fa1a58dc74"
      },
      "execution_count": 34,
      "outputs": [
        {
          "output_type": "stream",
          "name": "stdout",
          "text": [
            "[1, 2, 3]\n"
          ]
        }
      ]
    },
    {
      "cell_type": "code",
      "source": [
        "# 11. Write a program that checks if a number is positive, negative, or zero.\n",
        "num = int(input(\"Enter a number: \"))\n",
        "if num > 0:\n",
        "  print(\"positive\")\n",
        "elif num == 0:\n",
        "  print(\"zero\")\n",
        "else:\n",
        "  print(\"Negative\")"
      ],
      "metadata": {
        "colab": {
          "base_uri": "https://localhost:8080/"
        },
        "id": "2qmipE-FJ4tO",
        "outputId": "23255d19-7870-46b2-90d7-30a247f7424f"
      },
      "execution_count": 37,
      "outputs": [
        {
          "output_type": "stream",
          "name": "stdout",
          "text": [
            "Enter a number: 0\n",
            "zero\n"
          ]
        }
      ]
    },
    {
      "cell_type": "code",
      "source": [
        "# 12. Write a for loop to print numbers from 1 to 10.\n",
        "for i in range(1,11):\n",
        "  print(i)"
      ],
      "metadata": {
        "colab": {
          "base_uri": "https://localhost:8080/"
        },
        "id": "E8pvtmSlK4gc",
        "outputId": "678729c5-b12a-4b8b-9a4e-929df748b032"
      },
      "execution_count": 44,
      "outputs": [
        {
          "output_type": "stream",
          "name": "stdout",
          "text": [
            "1\n",
            "2\n",
            "3\n",
            "4\n",
            "5\n",
            "6\n",
            "7\n",
            "8\n",
            "9\n",
            "10\n"
          ]
        }
      ]
    },
    {
      "cell_type": "code",
      "source": [
        "# 13. Write a Python program to find the sum of all even numbers between 1 and 50.\n",
        "sum = 0\n",
        "for i in range(1,51):\n",
        "  if i % 2 == 0:\n",
        "    sum = sum + i\n",
        "print(sum)"
      ],
      "metadata": {
        "colab": {
          "base_uri": "https://localhost:8080/"
        },
        "id": "IUe1-cI2MI0i",
        "outputId": "cd3b1514-fc84-4351-e71b-704f88626452"
      },
      "execution_count": 49,
      "outputs": [
        {
          "output_type": "stream",
          "name": "stdout",
          "text": [
            "650\n"
          ]
        }
      ]
    },
    {
      "cell_type": "code",
      "source": [
        "# 14. Write a program to reverse a string using a while loop.\n",
        "s = input(\"Enter a string: \")\n",
        "i = len(s) - 1\n",
        "\n",
        "while i >= 0:\n",
        "    print(s[i], end=\"\")\n",
        "    i -= 1"
      ],
      "metadata": {
        "colab": {
          "base_uri": "https://localhost:8080/"
        },
        "id": "8eVDtWqXNVmk",
        "outputId": "4c7158ea-525b-4a39-f9e5-6103e600fda3"
      },
      "execution_count": 50,
      "outputs": [
        {
          "output_type": "stream",
          "name": "stdout",
          "text": [
            "Enter a string: hello\n",
            "olleh"
          ]
        }
      ]
    },
    {
      "cell_type": "code",
      "source": [
        "# 15. Write a Python program to calculate the factorial of a number provided by the user using a while loop.\n",
        "n = int(input(\"Enter a number: \"))\n",
        "f = 1\n",
        "\n",
        "while n > 0:\n",
        "    f = f * n\n",
        "    n = n - 1\n",
        "\n",
        "print(f)"
      ],
      "metadata": {
        "colab": {
          "base_uri": "https://localhost:8080/"
        },
        "id": "IqQNgq29OLPo",
        "outputId": "6cd0e2a4-6924-47d9-ccc7-e6e46cd3b938"
      },
      "execution_count": 52,
      "outputs": [
        {
          "output_type": "stream",
          "name": "stdout",
          "text": [
            "Enter a number: 3\n",
            "6\n"
          ]
        }
      ]
    },
    {
      "cell_type": "code",
      "source": [],
      "metadata": {
        "id": "JqXasy4vOq32"
      },
      "execution_count": null,
      "outputs": []
    }
  ]
}